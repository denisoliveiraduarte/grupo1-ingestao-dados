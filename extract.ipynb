{
 "cells": [
  {
   "cell_type": "code",
   "execution_count": null,
   "id": "36f1d49a",
   "metadata": {},
   "outputs": [],
   "source": [
    "from datetime import datetime\n",
    "import matplotlib.pyplot as plt\n",
    "import os\n",
    "import re\n",
    "\n",
    "from pyspark.sql import SparkSession\n",
    "from pyspark.sql.functions import col, regexp_replace, when, isnull\n",
    "from pyspark.sql.types import StringType, IntegerType"
   ]
  },
  {
   "attachments": {},
   "cell_type": "markdown",
   "id": "26b3ffbc",
   "metadata": {},
   "source": [
    "#### Setting variables"
   ]
  },
  {
   "cell_type": "code",
   "execution_count": null,
   "id": "a2cbab92",
   "metadata": {},
   "outputs": [],
   "source": [
    "path_wd   = os.getcwd()\n",
    "path_root = path_wd.rsplit(\"\\\\\",0)[0]\n",
    "\n",
    "path_raw = path_root + '\\\\raw\\\\'\n",
    "path_stage = path_root + '\\\\stage\\\\'\n",
    "\n",
    "path_raw_bancos = path_raw + 'bancos\\\\'\n",
    "path_raw_empregados = path_raw + 'empregados\\\\'\n",
    "path_raw_reclamacoes = path_raw + 'reclamacoes\\\\'\n",
    "\n",
    "flist_bancos = os.listdir(path_raw_bancos)\n",
    "flist_empregados = os.listdir(path_raw_empregados)\n",
    "flist_reclamacoes = os.listdir(path_raw_reclamacoes)"
   ]
  },
  {
   "attachments": {},
   "cell_type": "markdown",
   "id": "5cb1923e",
   "metadata": {},
   "source": [
    "#### Initialize SparkSession"
   ]
  },
  {
   "cell_type": "code",
   "execution_count": null,
   "id": "fb252ff8",
   "metadata": {},
   "outputs": [],
   "source": [
    "spark = SparkSession.builder.appName(\"DataExtraction\").getOrCreate()"
   ]
  },
  {
   "cell_type": "markdown",
   "id": "ce6d4cf0",
   "metadata": {},
   "source": [
    "#### 1. Data Extraction"
   ]
  },
  {
   "cell_type": "markdown",
   "id": "7789a024",
   "metadata": {},
   "source": [
    "1.1. Bancos"
   ]
  },
  {
   "cell_type": "code",
   "execution_count": null,
   "id": "302966a9",
   "metadata": {},
   "outputs": [],
   "source": [
    "fname_bancos = path_raw_bancos + flist_bancos[0]\n",
    "\n",
    "df_bancos = spark.read.option(\"delimiter\", \"\\t\").option(\"header\", True).option(\"charset\", \"latin1\").csv(fname_bancos)"
   ]
  },
  {
   "cell_type": "markdown",
   "id": "4ab66c65",
   "metadata": {},
   "source": [
    "1.2. Empregados"
   ]
  },
  {
   "cell_type": "code",
   "execution_count": null,
   "id": "2db9e957",
   "metadata": {},
   "outputs": [],
   "source": [
    "fname_empregados_01 = path_raw_empregados + flist_empregados[0]\n",
    "fname_empregados_02 = path_raw_empregados + flist_empregados[1]\n",
    "\n",
    "df_empregados_01 = spark.read.option(\"delimiter\", \"|\").option(\"header\", True).csv(fname_empregados_01)\n",
    "df_empregados_02 = spark.read.option(\"delimiter\", \"|\").option(\"header\", True).csv(fname_empregados_02)"
   ]
  },
  {
   "cell_type": "markdown",
   "id": "f0029725",
   "metadata": {},
   "source": [
    "1.3. Reclamações"
   ]
  },
  {
   "cell_type": "code",
   "execution_count": null,
   "id": "6f7b2350",
   "metadata": {},
   "outputs": [],
   "source": [
    "fname_reclamacoes_202101 = path_raw_reclamacoes + flist_reclamacoes[0]\n",
    "fname_reclamacoes_202102 = path_raw_reclamacoes + flist_reclamacoes[1]\n",
    "fname_reclamacoes_202103 = path_raw_reclamacoes + flist_reclamacoes[2]\n",
    "fname_reclamacoes_202104 = path_raw_reclamacoes + flist_reclamacoes[3]\n",
    "fname_reclamacoes_202201 = path_raw_reclamacoes + flist_reclamacoes[4]\n",
    "fname_reclamacoes_202202 = path_raw_reclamacoes + flist_reclamacoes[5]\n",
    "fname_reclamacoes_202203 = path_raw_reclamacoes + flist_reclamacoes[6]\n",
    "fname_reclamacoes_202204 = path_raw_reclamacoes + flist_reclamacoes[7]\n",
    "\n",
    "df_reclamacoes_202101 = spark.read.option(\"delimiter\", \";\").option(\"header\", True).csv(fname_reclamacoes_202101)\n",
    "df_reclamacoes_202102 = spark.read.option(\"delimiter\", \";\").option(\"header\", True).csv(fname_reclamacoes_202102)\n",
    "df_reclamacoes_202103 = spark.read.option(\"delimiter\", \";\").option(\"header\", True).csv(fname_reclamacoes_202103)\n",
    "df_reclamacoes_202104 = spark.read.option(\"delimiter\", \";\").option(\"header\", True).csv(fname_reclamacoes_202104)\n",
    "df_reclamacoes_202201 = spark.read.option(\"delimiter\", \";\").option(\"header\", True).csv(fname_reclamacoes_202201)\n",
    "df_reclamacoes_202202 = spark.read.option(\"delimiter\", \";\").option(\"header\", True).csv(fname_reclamacoes_202202)\n",
    "df_reclamacoes_202203 = spark.read.option(\"delimiter\", \";\").option(\"header\", True).csv(fname_reclamacoes_202203)\n",
    "df_reclamacoes_202204 = spark.read.option(\"delimiter\", \";\").option(\"header\", True).csv(fname_reclamacoes_202204)"
   ]
  },
  {
   "cell_type": "markdown",
   "id": "7049b926",
   "metadata": {},
   "source": [
    "#### 2. Data Cleansing"
   ]
  },
  {
   "cell_type": "code",
   "execution_count": null,
   "id": "3c846efb",
   "metadata": {},
   "outputs": [],
   "source": [
    "# Limpar caracteres especiais\n",
    "def clean_special_chars(df, column_name):\n",
    "    cleaned_df = df.withColumn(column_name + \"_cleaned\", \n",
    "                               regexp_replace(col(column_name), '[^a-zA-Z0-9\\s]', ''))\n",
    "    return cleaned_df\n",
    "\n",
    "#  Tratar nulos e vazios\n",
    "def handle_nulls_and_empty(df, column_name):\n",
    "    cleaned_df = df.withColumn(column_name + \"_handled\", \n",
    "                               when(isnull(col(column_name)) | (col(column_name) == \"\"), \n",
    "                                    None)\n",
    "                                    .otherwise(col(column_name)))\n",
    "    return cleaned_df"
   ]
  },
  {
   "cell_type": "markdown",
   "id": "dd754e20",
   "metadata": {},
   "source": [
    "2.1. Bancos"
   ]
  },
  {
   "cell_type": "code",
   "execution_count": null,
   "id": "f4c3a858",
   "metadata": {},
   "outputs": [],
   "source": [
    "df_bancos_cleaned = clean_special_chars(df_bancos, \"Nome\")\n",
    "df_bancos_handled = handle_nulls_and_empty(df_bancos_cleaned, \"Nome_cleaned\")\n",
    "\n",
    "df_bancos_final = df_bancos_handled.select(\"Segmento\", \"CNPJ\", \"Nome_cleaned_handled\").withColumnRenamed(\"Nome_cleaned_handled\", \"Nome\")\n",
    "df_bancos_final.show()"
   ]
  },
  {
   "cell_type": "code",
   "execution_count": null,
   "id": "1052ab7a",
   "metadata": {},
   "outputs": [],
   "source": [
    "# Output\n",
    "# nome do arquivo\n",
    "fname_bancos_output = fname_bancos.replace('.tsv', '_cleaned.csv')\n",
    "fname_bancos_output_01 = fname_bancos_output.replace('\\\\', '/')\n",
    "\n",
    "df_bancos_final.write.csv(fname_bancos_output_01, header=True, sep=\";\", mode=\"overwrite\")"
   ]
  },
  {
   "cell_type": "markdown",
   "id": "3fe564b3",
   "metadata": {},
   "source": [
    "2.2. Empregados"
   ]
  },
  {
   "cell_type": "code",
   "execution_count": null,
   "id": "3628ba2d",
   "metadata": {},
   "outputs": [],
   "source": []
  },
  {
   "cell_type": "markdown",
   "id": "fec9ae30",
   "metadata": {},
   "source": [
    "2.3. Reclamações"
   ]
  },
  {
   "cell_type": "code",
   "execution_count": null,
   "id": "e33bdabd",
   "metadata": {},
   "outputs": [],
   "source": []
  },
  {
   "cell_type": "markdown",
   "id": "54dfcbc8",
   "metadata": {},
   "source": [
    "#### 3. Data Transformation"
   ]
  },
  {
   "cell_type": "code",
   "execution_count": null,
   "id": "d2776f76",
   "metadata": {},
   "outputs": [],
   "source": [
    "# Padronizar nomes dos bancos"
   ]
  },
  {
   "cell_type": "code",
   "execution_count": null,
   "id": "72b5f76e",
   "metadata": {},
   "outputs": [],
   "source": []
  },
  {
   "cell_type": "code",
   "execution_count": null,
   "id": "ecdabbef",
   "metadata": {},
   "outputs": [],
   "source": [
    "# spark.stop()"
   ]
  }
 ],
 "metadata": {
  "kernelspec": {
   "display_name": "base",
   "language": "python",
   "name": "python3"
  },
  "language_info": {
   "codemirror_mode": {
    "name": "ipython",
    "version": 3
   },
   "file_extension": ".py",
   "mimetype": "text/x-python",
   "name": "python",
   "nbconvert_exporter": "python",
   "pygments_lexer": "ipython3",
   "version": "3.9.13"
  },
  "vscode": {
   "interpreter": {
    "hash": "2c8a37b3b3643c9fb15903c055339ac833392cb866e775b4277fbf96facdfc8e"
   }
  }
 },
 "nbformat": 4,
 "nbformat_minor": 5
}
