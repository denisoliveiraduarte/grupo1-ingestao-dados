{
 "cells": [
  {
   "cell_type": "code",
   "execution_count": null,
   "metadata": {},
   "outputs": [],
   "source": [
    "\n",
    "import sys\n",
    "from awsglue.transforms import *\n",
    "from awsglue.utils import getResolvedOptions\n",
    "from pyspark.context import SparkContext\n",
    "from awsglue.context import GlueContext\n",
    "from awsglue.job import Job\n",
    "  \n",
    "sc = SparkContext.getOrCreate()\n",
    "glueContext = GlueContext(sc)\n",
    "spark = glueContext.spark_session\n",
    "job = Job(glueContext)\n",
    "import boto3\n",
    "import json\n",
    "def get_secret():\n",
    "\n",
    "    secret_name = \"chave_db_bancos\"\n",
    "    region_name = \"us-east-1\"\n",
    "\n",
    "    # Create a Secrets Manager client\n",
    "    session = boto3.session.Session()\n",
    "    client = session.client(\n",
    "        service_name='secretsmanager',\n",
    "        region_name=region_name\n",
    "    )\n",
    "\n",
    "    try:\n",
    "        get_secret_value_response = client.get_secret_value(\n",
    "            SecretId=secret_name\n",
    "        )\n",
    "    except ClientError as e:\n",
    "        raise e\n",
    "\n",
    "    # Decrypts secret using the associated KMS key.\n",
    "    return get_secret_value_response['SecretString']\n",
    "secret = get_secret()\n",
    "secret = json.loads(secret)\n",
    "bucketNameDelivery = \"ingestao-bigdata-delivery/\"\n",
    "df_fato = spark.read.parquet('s3://'+bucketNameDelivery+\"fato/\")\n",
    "jdbc_url = \"jdbc:sqlserver://\" + secret.get(\"host\") + \":\" + str(secret.get(\"port\"))\n",
    "tb = \"bancos.dbo.fato_bancos\"\n",
    "connection_mssql_options = {\n",
    "    \"url\": jdbc_url,\n",
    "    \"user\": secret.get(\"username\"),\n",
    "    \"password\": secret.get(\"password\")}\n",
    "\n",
    "df_fato.write.mode(\"overwrite\").jdbc(url=jdbc_url, table=tb,properties=connection_mssql_options)\n",
    "job.commit()"
   ]
  }
 ],
 "metadata": {
  "language_info": {
   "name": "python"
  },
  "orig_nbformat": 4
 },
 "nbformat": 4,
 "nbformat_minor": 2
}
