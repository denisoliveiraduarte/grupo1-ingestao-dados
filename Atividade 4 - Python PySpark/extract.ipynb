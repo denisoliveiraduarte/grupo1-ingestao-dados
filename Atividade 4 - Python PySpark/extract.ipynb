{
 "cells": [
  {
   "cell_type": "code",
   "execution_count": 1,
   "id": "36f1d49a",
   "metadata": {},
   "outputs": [],
   "source": [
    "from datetime import datetime\n",
    "import matplotlib.pyplot as plt\n",
    "import os\n",
    "import re\n",
    "import unicodedata\n",
    "\n",
    "from pyspark.sql import SparkSession\n",
    "from pyspark.sql.functions import col, regexp_replace, when, isnull, expr\n",
    "from pyspark.sql.types import StringType, IntegerType"
   ]
  },
  {
   "attachments": {},
   "cell_type": "markdown",
   "id": "26b3ffbc",
   "metadata": {},
   "source": [
    "#### Setting variables"
   ]
  },
  {
   "cell_type": "code",
   "execution_count": 2,
   "id": "a2cbab92",
   "metadata": {},
   "outputs": [
    {
     "data": {
      "text/plain": [
       "'c:\\\\Users\\\\Diane\\\\git\\\\grupo1-ingestao-dados\\\\Atividade 4 - Python PySpark\\\\raw\\\\'"
      ]
     },
     "execution_count": 2,
     "metadata": {},
     "output_type": "execute_result"
    }
   ],
   "source": [
    "path_wd   = os.getcwd()\n",
    "path_root = path_wd.rsplit(\"\\\\\",0)[0]\n",
    "\n",
    "\n",
    "path_raw = path_root + '\\\\raw\\\\'\n",
    "\n",
    "path_raw_bancos = path_raw + 'bancos\\\\'\n",
    "path_raw_empregados = path_raw + 'empregados\\\\'\n",
    "path_raw_reclamacoes = path_raw + 'reclamacoes\\\\'\n",
    "\n",
    "flist_raw_bancos = os.listdir(path_raw_bancos)\n",
    "flist_raw_empregados = os.listdir(path_raw_empregados)\n",
    "flist_raw_reclamacoes = os.listdir(path_raw_reclamacoes)\n",
    "\n",
    "\n",
    "path_stage = path_root + '\\\\stage\\\\'\n",
    "\n",
    "path_stage_bancos = path_stage + 'bancos\\\\'\n",
    "path_stage_empregados = path_stage + 'empregados\\\\'\n",
    "path_stage_reclamacoes = path_stage + 'reclamacoes\\\\'\n",
    "\n",
    "path_raw"
   ]
  },
  {
   "attachments": {},
   "cell_type": "markdown",
   "id": "5cb1923e",
   "metadata": {},
   "source": [
    "#### Initialize SparkSession"
   ]
  },
  {
   "cell_type": "code",
   "execution_count": 3,
   "id": "fb252ff8",
   "metadata": {},
   "outputs": [],
   "source": [
    "spark = SparkSession.builder.appName(\"DataExtraction\").getOrCreate()"
   ]
  },
  {
   "cell_type": "markdown",
   "id": "ce6d4cf0",
   "metadata": {},
   "source": [
    "#### 1. Data Extraction"
   ]
  },
  {
   "cell_type": "markdown",
   "id": "7789a024",
   "metadata": {},
   "source": [
    "1.1. Bancos"
   ]
  },
  {
   "cell_type": "code",
   "execution_count": 4,
   "id": "302966a9",
   "metadata": {},
   "outputs": [],
   "source": [
    "fname_bancos = path_raw_bancos + flist_raw_bancos[0]\n",
    "\n",
    "df_bancos = spark.read.option(\"delimiter\", \",\").option(\"header\", True).option(\"charset\", \"utf-8\").csv(fname_bancos)"
   ]
  },
  {
   "cell_type": "markdown",
   "id": "4ab66c65",
   "metadata": {},
   "source": [
    "1.2. Empregados"
   ]
  },
  {
   "cell_type": "code",
   "execution_count": 5,
   "id": "2db9e957",
   "metadata": {},
   "outputs": [],
   "source": [
    "fname_empregados_01 = path_raw_empregados + flist_raw_empregados[0]\n",
    "fname_empregados_02 = path_raw_empregados + flist_raw_empregados[1]\n",
    "\n",
    "df_empregados_01 = spark.read.option(\"delimiter\", \"|\").option(\"header\", True).csv(fname_empregados_01)\n",
    "df_empregados_02 = spark.read.option(\"delimiter\", \"|\").option(\"header\", True).csv(fname_empregados_02)"
   ]
  },
  {
   "cell_type": "markdown",
   "id": "f0029725",
   "metadata": {},
   "source": [
    "1.3. Reclamações"
   ]
  },
  {
   "cell_type": "code",
   "execution_count": 6,
   "id": "6f7b2350",
   "metadata": {},
   "outputs": [],
   "source": [
    "fname_reclamacoes_202101 = path_raw_reclamacoes + flist_raw_reclamacoes[0]\n",
    "fname_reclamacoes_202102 = path_raw_reclamacoes + flist_raw_reclamacoes[1]\n",
    "fname_reclamacoes_202103 = path_raw_reclamacoes + flist_raw_reclamacoes[2]\n",
    "fname_reclamacoes_202104 = path_raw_reclamacoes + flist_raw_reclamacoes[3]\n",
    "fname_reclamacoes_202201 = path_raw_reclamacoes + flist_raw_reclamacoes[4]\n",
    "fname_reclamacoes_202202 = path_raw_reclamacoes + flist_raw_reclamacoes[5]\n",
    "fname_reclamacoes_202203 = path_raw_reclamacoes + flist_raw_reclamacoes[6]\n",
    "fname_reclamacoes_202204 = path_raw_reclamacoes + flist_raw_reclamacoes[7]\n",
    "\n",
    "df_reclamacoes_202101 = spark.read.option(\"delimiter\", \";\").option(\"header\", True).csv(fname_reclamacoes_202101)\n",
    "df_reclamacoes_202102 = spark.read.option(\"delimiter\", \";\").option(\"header\", True).csv(fname_reclamacoes_202102)\n",
    "df_reclamacoes_202103 = spark.read.option(\"delimiter\", \";\").option(\"header\", True).csv(fname_reclamacoes_202103)\n",
    "df_reclamacoes_202104 = spark.read.option(\"delimiter\", \";\").option(\"header\", True).csv(fname_reclamacoes_202104)\n",
    "df_reclamacoes_202201 = spark.read.option(\"delimiter\", \";\").option(\"header\", True).csv(fname_reclamacoes_202201)\n",
    "df_reclamacoes_202202 = spark.read.option(\"delimiter\", \";\").option(\"header\", True).csv(fname_reclamacoes_202202)\n",
    "df_reclamacoes_202203 = spark.read.option(\"delimiter\", \";\").option(\"header\", True).csv(fname_reclamacoes_202203)\n",
    "df_reclamacoes_202204 = spark.read.option(\"delimiter\", \";\").option(\"header\", True).csv(fname_reclamacoes_202204)"
   ]
  },
  {
   "cell_type": "markdown",
   "id": "902625e2",
   "metadata": {},
   "source": [
    "#### 2. Rename columns"
   ]
  },
  {
   "cell_type": "markdown",
   "id": "b58ea1dc",
   "metadata": {},
   "source": [
    "2.1. Bancos"
   ]
  },
  {
   "cell_type": "code",
   "execution_count": 7,
   "id": "b318b3e8",
   "metadata": {},
   "outputs": [],
   "source": [
    "column_to_rename_old = ['Segmento','CNPJ','Nome']\n",
    "column_to_rename_new = ['segmento','cnpj','nome']\n",
    "\n",
    "for old, new in zip(column_to_rename_old, column_to_rename_new):\n",
    "    df_bancos = df_bancos.withColumnRenamed(old, new)"
   ]
  },
  {
   "cell_type": "markdown",
   "id": "8699b612",
   "metadata": {},
   "source": [
    "2.2. Empregados"
   ]
  },
  {
   "cell_type": "code",
   "execution_count": 8,
   "id": "75dc4758",
   "metadata": {},
   "outputs": [],
   "source": [
    "column_to_rename_old = ['employer_name', 'reviews_count', 'culture_count', 'salaries_count', 'benefits_count', 'employer-website', 'employer-headquarters', 'employer-founded', 'employer-industry', 'employer-revenue', 'url', 'Geral', 'Cultura e valores', 'Diversidade e inclusÃ£o', 'Qualidade de vida', 'Alta lideranÃ§a', 'RemuneraÃ§Ã£o e benefÃ\\xadcios', 'Oportunidades de carreira', 'Recomendam para outras pessoas(%)', 'Perspectiva positiva da empresa(%)', 'Segmento', 'CNPJ', 'Nome', 'match_percent,,,']\n",
    "column_to_rename_new = ['employer_name', 'reviews_count', 'culture_count', 'salaries_count', 'benefits_count', 'employer_website', 'employer_headquarters', 'employer_founded', 'employer_industry', 'employer_revenue', 'url', 'geral', 'cultura_e_valores', 'diversidade_e_inclusao', 'qualidade_de_vida', 'alta_lideranca', 'remuneracao_e_beneficios', 'oportunidades_de_carreira', 'recomendam_para_outras_pessoas_perc', 'perspectiva_positiva_da_empresa_perc', 'segmento', 'cnpj', 'nome', 'match_percent']\n",
    "\n",
    "for old, new in zip(column_to_rename_old, column_to_rename_new):\n",
    "    df_empregados_01 = df_empregados_01.withColumnRenamed(old, new)\n",
    "    df_empregados_02 = df_empregados_02.withColumnRenamed(old, new)"
   ]
  },
  {
   "cell_type": "markdown",
   "id": "a80a92fc",
   "metadata": {},
   "source": [
    "2.3. Reclamações"
   ]
  },
  {
   "cell_type": "code",
   "execution_count": 9,
   "id": "06ddb83a",
   "metadata": {},
   "outputs": [],
   "source": [
    "column_to_rename_old = ['Ano', 'Trimestre', 'Categoria', 'Tipo', 'CNPJ IF', 'Instituição financeira', 'Índice', 'Quantidade de reclamações reguladas procedentes', 'Quantidade de reclamações reguladas - outras', 'Quantidade de reclamações não reguladas', 'Quantidade total de reclamações', 'Quantidade total de clientes – CCS e SCR', 'Quantidade de clientes – CCS', 'Quantidade de clientes – SCR']\n",
    "column_to_rename_new = ['ano', 'trimestre', 'categoria', 'tipo', 'cnpj_if', 'instituicao_financeira', 'indice', 'quantidade_de_reclamacoes_reguladas_procedentes', 'quantidade_de_reclamacoes_reguladas_outras', 'quantidade_de_reclamacoes_nao_reguladas', 'quantidade_total_de_reclamacoes', 'quantidade_total_de_clientes_ccs_e_scr', 'quantidade_de_clientes_ccs', 'quantidade_de_clientes_scr']\n",
    "\n",
    "for old, new in zip(column_to_rename_old, column_to_rename_new):\n",
    "    df_reclamacoes_202101 = df_reclamacoes_202101.withColumnRenamed(old, new)\n",
    "    df_reclamacoes_202102 = df_reclamacoes_202102.withColumnRenamed(old, new)\n",
    "    df_reclamacoes_202103 = df_reclamacoes_202103.withColumnRenamed(old, new)\n",
    "    df_reclamacoes_202104 = df_reclamacoes_202104.withColumnRenamed(old, new)\n",
    "    df_reclamacoes_202201 = df_reclamacoes_202201.withColumnRenamed(old, new)\n",
    "    df_reclamacoes_202203 = df_reclamacoes_202203.withColumnRenamed(old, new)\n",
    "    df_reclamacoes_202204 = df_reclamacoes_202204.withColumnRenamed(old, new)"
   ]
  },
  {
   "cell_type": "markdown",
   "id": "7049b926",
   "metadata": {},
   "source": [
    "#### 3. Output"
   ]
  },
  {
   "cell_type": "code",
   "execution_count": 10,
   "id": "84088cf2",
   "metadata": {},
   "outputs": [],
   "source": [
    "def rename_file(fname):\n",
    "    fname = fname.replace('.csv', '_extracted.csv')\n",
    "    fname = fname.replace('\\\\', '/')\n",
    "\n",
    "    return fname"
   ]
  },
  {
   "cell_type": "markdown",
   "id": "54540738",
   "metadata": {},
   "source": [
    "3.1. Bancos"
   ]
  },
  {
   "cell_type": "code",
   "execution_count": 11,
   "id": "2bcafe53",
   "metadata": {},
   "outputs": [
    {
     "name": "stdout",
     "output_type": "stream",
     "text": [
      "c:/Users/Diane/git/grupo1-ingestao-dados/Atividade 4 - Python PySpark/stage/bancos/EnquadramentoInicia_v2_extracted.csv\n"
     ]
    }
   ],
   "source": [
    "fname_bancos = rename_file(path_stage_bancos + flist_raw_bancos[0])\n",
    "\n",
    "df_bancos.write.csv(fname_bancos, header=True, sep=\";\", mode=\"overwrite\")\n",
    "\n",
    "print(fname_bancos)"
   ]
  },
  {
   "cell_type": "markdown",
   "id": "ad092ade",
   "metadata": {},
   "source": [
    "3.2. Empregados"
   ]
  },
  {
   "cell_type": "code",
   "execution_count": 12,
   "id": "a9f90abd",
   "metadata": {},
   "outputs": [
    {
     "name": "stdout",
     "output_type": "stream",
     "text": [
      "c:/Users/Diane/git/grupo1-ingestao-dados/Atividade 4 - Python PySpark/stage/empregados/glassdoor_consolidado_join_match_less_v2_extracted.csv\n",
      "c:/Users/Diane/git/grupo1-ingestao-dados/Atividade 4 - Python PySpark/stage/empregados/glassdoor_consolidado_join_match_v2_extracted.csv\n"
     ]
    }
   ],
   "source": [
    "fname_empregados_01 = rename_file(path_stage_empregados + flist_raw_empregados[0])\n",
    "fname_empregados_02 = rename_file(path_stage_empregados + flist_raw_empregados[1])\n",
    "\n",
    "df_empregados_01.write.csv(fname_empregados_01, header=True, sep=\";\", mode=\"overwrite\")\n",
    "df_empregados_02.write.csv(fname_empregados_02, header=True, sep=\";\", mode=\"overwrite\")\n",
    "\n",
    "print(fname_empregados_01)\n",
    "print(fname_empregados_02)"
   ]
  },
  {
   "cell_type": "markdown",
   "id": "e8b2d684",
   "metadata": {},
   "source": [
    "3.3. Reclamações"
   ]
  },
  {
   "cell_type": "code",
   "execution_count": 13,
   "id": "b4a65023",
   "metadata": {},
   "outputs": [
    {
     "name": "stdout",
     "output_type": "stream",
     "text": [
      "c:/Users/Diane/git/grupo1-ingestao-dados/Atividade 4 - Python PySpark/stage/reclamacoes/2021_tri_01_extracted.csv\n",
      "c:/Users/Diane/git/grupo1-ingestao-dados/Atividade 4 - Python PySpark/stage/reclamacoes/2021_tri_02_extracted.csv\n",
      "c:/Users/Diane/git/grupo1-ingestao-dados/Atividade 4 - Python PySpark/stage/reclamacoes/2021_tri_03_extracted.csv\n",
      "c:/Users/Diane/git/grupo1-ingestao-dados/Atividade 4 - Python PySpark/stage/reclamacoes/2021_tri_04_extracted.csv\n",
      "c:/Users/Diane/git/grupo1-ingestao-dados/Atividade 4 - Python PySpark/stage/reclamacoes/2022_tri_01_extracted.csv\n",
      "c:/Users/Diane/git/grupo1-ingestao-dados/Atividade 4 - Python PySpark/stage/reclamacoes/2022_tri_03_extracted.csv\n",
      "c:/Users/Diane/git/grupo1-ingestao-dados/Atividade 4 - Python PySpark/stage/reclamacoes/2022_tri_04_extracted.csv\n"
     ]
    }
   ],
   "source": [
    "fname_reclamacoes_202101 = rename_file(path_stage_reclamacoes + flist_raw_reclamacoes[0])\n",
    "fname_reclamacoes_202102 = rename_file(path_stage_reclamacoes + flist_raw_reclamacoes[1])\n",
    "fname_reclamacoes_202103 = rename_file(path_stage_reclamacoes + flist_raw_reclamacoes[2])\n",
    "fname_reclamacoes_202104 = rename_file(path_stage_reclamacoes + flist_raw_reclamacoes[3])\n",
    "fname_reclamacoes_202201 = rename_file(path_stage_reclamacoes + flist_raw_reclamacoes[4])\n",
    "fname_reclamacoes_202203 = rename_file(path_stage_reclamacoes + flist_raw_reclamacoes[6])\n",
    "fname_reclamacoes_202204 = rename_file(path_stage_reclamacoes + flist_raw_reclamacoes[7])\n",
    "\n",
    "df_reclamacoes_202101.write.csv(fname_reclamacoes_202101, header=True, sep=\";\", mode=\"overwrite\")\n",
    "df_reclamacoes_202102.write.csv(fname_reclamacoes_202102, header=True, sep=\";\", mode=\"overwrite\")\n",
    "df_reclamacoes_202103.write.csv(fname_reclamacoes_202103, header=True, sep=\";\", mode=\"overwrite\")\n",
    "df_reclamacoes_202104.write.csv(fname_reclamacoes_202104, header=True, sep=\";\", mode=\"overwrite\")\n",
    "df_reclamacoes_202201.write.csv(fname_reclamacoes_202201, header=True, sep=\";\", mode=\"overwrite\")\n",
    "df_reclamacoes_202203.write.csv(fname_reclamacoes_202203, header=True, sep=\";\", mode=\"overwrite\")\n",
    "df_reclamacoes_202204.write.csv(fname_reclamacoes_202204, header=True, sep=\";\", mode=\"overwrite\")\n",
    "\n",
    "print(fname_reclamacoes_202101)\n",
    "print(fname_reclamacoes_202102)\n",
    "print(fname_reclamacoes_202103)\n",
    "print(fname_reclamacoes_202104)\n",
    "print(fname_reclamacoes_202201)\n",
    "print(fname_reclamacoes_202203)\n",
    "print(fname_reclamacoes_202204)"
   ]
  },
  {
   "cell_type": "code",
   "execution_count": null,
   "id": "0eb0c44e",
   "metadata": {},
   "outputs": [],
   "source": []
  },
  {
   "cell_type": "code",
   "execution_count": 14,
   "id": "ecdabbef",
   "metadata": {},
   "outputs": [],
   "source": [
    "spark.stop()"
   ]
  }
 ],
 "metadata": {
  "kernelspec": {
   "display_name": "base",
   "language": "python",
   "name": "python3"
  },
  "language_info": {
   "codemirror_mode": {
    "name": "ipython",
    "version": 3
   },
   "file_extension": ".py",
   "mimetype": "text/x-python",
   "name": "python",
   "nbconvert_exporter": "python",
   "pygments_lexer": "ipython3",
   "version": "3.9.13"
  },
  "vscode": {
   "interpreter": {
    "hash": "2c8a37b3b3643c9fb15903c055339ac833392cb866e775b4277fbf96facdfc8e"
   }
  }
 },
 "nbformat": 4,
 "nbformat_minor": 5
}
