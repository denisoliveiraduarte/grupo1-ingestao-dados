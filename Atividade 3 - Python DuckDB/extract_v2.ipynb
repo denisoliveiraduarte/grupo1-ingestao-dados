{
 "cells": [
  {
   "cell_type": "code",
   "execution_count": 1,
   "id": "36f1d49a",
   "metadata": {},
   "outputs": [],
   "source": [
    "import csv\n",
    "from datetime import datetime\n",
    "import os\n",
    "import re\n",
    "import unicodedata"
   ]
  },
  {
   "attachments": {},
   "cell_type": "markdown",
   "id": "26b3ffbc",
   "metadata": {},
   "source": [
    "#### Setting variables"
   ]
  },
  {
   "cell_type": "code",
   "execution_count": 2,
   "id": "a2cbab92",
   "metadata": {},
   "outputs": [],
   "source": [
    "path_wd   = os.getcwd()\n",
    "path_root = path_wd.rsplit(\"\\\\\",0)[0]\n",
    "\n",
    "\n",
    "path_raw = path_root + '\\\\raw\\\\'\n",
    "\n",
    "path_raw_bancos = path_raw + 'bancos\\\\'\n",
    "path_raw_empregados = path_raw + 'empregados\\\\'\n",
    "path_raw_reclamacoes = path_raw + 'reclamacoes\\\\'\n",
    "\n",
    "flist_raw_bancos = os.listdir(path_raw_bancos)\n",
    "flist_raw_empregados = os.listdir(path_raw_empregados)\n",
    "flist_raw_reclamacoes = os.listdir(path_raw_reclamacoes)\n",
    "\n",
    "\n",
    "path_stage = path_root + '\\\\stage\\\\'\n",
    "\n",
    "path_stage_bancos = path_stage + 'bancos\\\\'\n",
    "path_stage_empregados = path_stage + 'empregados\\\\'\n",
    "path_stage_reclamacoes = path_stage + 'reclamacoes\\\\'"
   ]
  },
  {
   "cell_type": "markdown",
   "id": "ce6d4cf0",
   "metadata": {},
   "source": [
    "#### Data Extraction and Cleansing"
   ]
  },
  {
   "cell_type": "code",
   "execution_count": 3,
   "id": "dd6ea034",
   "metadata": {},
   "outputs": [],
   "source": [
    "class DataFrame:\n",
    "    def __init__(self, data, columns=None):\n",
    "        self.data = data\n",
    "        self.columns = columns\n",
    "    \n",
    "    def __repr__(self):\n",
    "        return str(self.data)\n",
    "\n",
    "    def rename_column(self, old_name, new_name):\n",
    "        if old_name in self.columns:\n",
    "            column_index = self.columns.index(old_name)\n",
    "            self.columns[column_index] = new_name\n",
    "\n",
    "    def handle_missing_values(self, column_name, handle_func):\n",
    "        column_index = self.columns.index(column_name)\n",
    "        for row in self.data:\n",
    "            if row[column_index] is None or row[column_index] == \"\" or row[column_index] == \" \":\n",
    "                row[column_index] = handle_func(row[column_index])\n",
    "\n",
    "    def cast_column_to_int(self, column_name):\n",
    "        column_index = self.columns.index(column_name)\n",
    "        for row in self.data:\n",
    "            try:\n",
    "                row[column_index] = int(row[column_index])\n",
    "            except ValueError:\n",
    "                pass\n",
    "\n",
    "    def apply_function(self, column_name, func):\n",
    "        column_index = self.columns.index(column_name)\n",
    "        for row in self.data:\n",
    "            row[column_index] = func(row[column_index])\n",
    "\n",
    "    def to_csv(self, output_file, delimiter=\";\"):\n",
    "        with open(output_file, \"w\", newline=\"\") as csvfile:\n",
    "            writer = csv.writer(csvfile, delimiter=delimiter)\n",
    "            writer.writerow(self.columns)\n",
    "            for row in self.data:\n",
    "                writer.writerow(row)\n",
    "\n",
    "    "
   ]
  },
  {
   "cell_type": "code",
   "execution_count": 4,
   "id": "42dd9324",
   "metadata": {},
   "outputs": [],
   "source": [
    "def get_df(fname, delimiter, header, charset):\n",
    "    with open(fname, \"r\", encoding=charset) as csvfile:\n",
    "        reader = csv.reader(csvfile, delimiter=delimiter)\n",
    "        \n",
    "        if header:\n",
    "            header_row = next(reader)\n",
    "\n",
    "        data_rows = [row for row in reader]\n",
    "\n",
    "    if header:\n",
    "        df = DataFrame(data_rows, columns=header_row)\n",
    "    else:\n",
    "        df = DataFrame(data_rows)\n",
    "\n",
    "    return df"
   ]
  },
  {
   "cell_type": "code",
   "execution_count": 5,
   "id": "d8962302",
   "metadata": {},
   "outputs": [],
   "source": [
    "def remove_accented_characters(text):\n",
    "    nfkd_form = unicodedata.normalize('NFKD', text)\n",
    "    return ''.join([c for c in nfkd_form if not unicodedata.combining(c)])"
   ]
  },
  {
   "cell_type": "code",
   "execution_count": 6,
   "id": "7f612ff2",
   "metadata": {},
   "outputs": [],
   "source": [
    "def handle_missing(value):\n",
    "    if value is None or value == \"\" or value == \" \":\n",
    "        return \"NULL\"\n",
    "    return value"
   ]
  },
  {
   "cell_type": "markdown",
   "id": "7789a024",
   "metadata": {},
   "source": [
    "Bancos"
   ]
  },
  {
   "cell_type": "code",
   "execution_count": 7,
   "id": "833adf42",
   "metadata": {},
   "outputs": [],
   "source": [
    "fname_bancos = path_raw_bancos + flist_raw_bancos[0]\n",
    "delimiter = ','\n",
    "header = True\n",
    "charset = 'utf-8'\n",
    "\n",
    "column_to_rename_old = ['\\ufeffSegmento','CNPJ','Nome']\n",
    "column_to_rename_new = ['segmento','cnpj','nome']\n",
    "\n",
    "column_to_clean = 'nome'\n",
    "\n",
    "# Load df\n",
    "df_bancos = get_df(fname_bancos, delimiter, header, charset)\n",
    "\n",
    "# Apply column rename func\n",
    "for i in range(len(column_to_rename_old)):\n",
    "    df_bancos.rename_column(column_to_rename_old[i], column_to_rename_new[i])\n",
    "\n",
    "# Apply remove accent char func \n",
    "df_bancos.apply_function(column_to_clean, remove_accented_characters)\n",
    "\n",
    "# Apply cast CNPJ column to int\n",
    "df_bancos.cast_column_to_int(\"cnpj\")\n",
    "\n",
    "# Apply None to missing values\n",
    "df_bancos.handle_missing_values(\"cnpj\", handle_missing)"
   ]
  },
  {
   "cell_type": "markdown",
   "id": "4ab66c65",
   "metadata": {},
   "source": [
    "Empregados"
   ]
  },
  {
   "cell_type": "code",
   "execution_count": 8,
   "id": "2db9e957",
   "metadata": {},
   "outputs": [],
   "source": [
    "fname_empregados_01 = path_raw_empregados + flist_raw_empregados[0]\n",
    "fname_empregados_02 = path_raw_empregados + flist_raw_empregados[1]\n",
    "delimiter = '|'\n",
    "header = True\n",
    "charset = 'utf-8'\n",
    "\n",
    "column_to_rename_old = ['\\ufeffemployer_name', 'reviews_count', 'culture_count', 'salaries_count', 'benefits_count', 'employer-website', 'employer-headquarters', 'employer-founded', 'employer-industry', 'employer-revenue', 'url', 'Geral', 'Cultura e valores', 'Diversidade e inclusÃ£o', 'Qualidade de vida', 'Alta lideranÃ§a', 'RemuneraÃ§Ã£o e benefÃ\\xadcios', 'Oportunidades de carreira', 'Recomendam para outras pessoas(%)', 'Perspectiva positiva da empresa(%)', 'CNPJ', 'Nome', 'match_percent']\n",
    "column_to_rename_new = ['employer_name', 'reviews_count', 'culture_count', 'salaries_count', 'benefits_count', 'employer_website', 'employer_headquarters', 'employer_founded', 'employer_industry', 'employer_revenue', 'url', 'geral', 'cultura_e_valores', 'diversidade_e_inclusao', 'qualidade_de_vida', 'alta_lideranca', 'remuneracao_e_beneficios', 'oportunidades_de_carreira', 'recomendam_para_outras_pessoas_perc', 'perspectiva_positiva_da_empresa_perc', 'cnpj', 'nome', 'match_percent']\n",
    "\n",
    "column_to_clean = ['employer_name', 'nome']\n",
    "\n",
    "# Load dfs\n",
    "df_empregados_01 = get_df(fname_empregados_01, delimiter, header, charset)\n",
    "df_empregados_02 = get_df(fname_empregados_02, delimiter, header, charset)\n",
    "\n",
    "\n",
    "# Apply column rename func\n",
    "for i in range(len(column_to_rename_old)):\n",
    "    df_empregados_01.rename_column(column_to_rename_old[i], column_to_rename_new[i])\n",
    "    df_empregados_02.rename_column(column_to_rename_old[i], column_to_rename_new[i])\n",
    "\n",
    "# Apply remove accent char func\n",
    "for i in range(len(column_to_clean)):\n",
    "    df_empregados_01.apply_function(column_to_clean[i], remove_accented_characters)\n",
    "    df_empregados_02.apply_function(column_to_clean[i], remove_accented_characters)\n",
    "\n",
    "# Apply cast CNPJ column to int\n",
    "df_empregados_01.cast_column_to_int(\"cnpj\")\n",
    "\n",
    "# Apply None to missing values\n",
    "df_empregados_01.handle_missing_values(\"cnpj\", handle_missing)"
   ]
  },
  {
   "cell_type": "markdown",
   "id": "f0029725",
   "metadata": {},
   "source": [
    "Reclamações"
   ]
  },
  {
   "cell_type": "code",
   "execution_count": 9,
   "id": "6f7b2350",
   "metadata": {},
   "outputs": [],
   "source": [
    "fname_reclamacoes_202101 = path_raw_reclamacoes + flist_raw_reclamacoes[0]\n",
    "fname_reclamacoes_202102 = path_raw_reclamacoes + flist_raw_reclamacoes[1]\n",
    "fname_reclamacoes_202103 = path_raw_reclamacoes + flist_raw_reclamacoes[2]\n",
    "fname_reclamacoes_202104 = path_raw_reclamacoes + flist_raw_reclamacoes[3]\n",
    "fname_reclamacoes_202201 = path_raw_reclamacoes + flist_raw_reclamacoes[4]\n",
    "fname_reclamacoes_202202 = path_raw_reclamacoes + flist_raw_reclamacoes[5]\n",
    "fname_reclamacoes_202203 = path_raw_reclamacoes + flist_raw_reclamacoes[6]\n",
    "fname_reclamacoes_202204 = path_raw_reclamacoes + flist_raw_reclamacoes[7]\n",
    "\n",
    "delimiter = ';'\n",
    "header = True\n",
    "charset = 'utf-8'\n",
    "\n",
    "column_to_rename_old = ['\\ufeffAno', 'Trimestre', 'Categoria', 'Tipo', 'CNPJ IF', 'Instituição financeira', 'Índice', 'Quantidade de reclamações reguladas procedentes', 'Quantidade de reclamações reguladas - outras', 'Quantidade de reclamações não reguladas', 'Quantidade total de reclamações', 'Quantidade total de clientes – CCS e SCR', 'Quantidade de clientes – CCS', 'Quantidade de clientes – SCR', ',,']\n",
    "column_to_rename_new = ['ano', 'trimestre', 'categoria', 'tipo', 'cnpj_if', 'instituicao_financeira', 'indice', 'quantidade_de_reclamacoes_reguladas_procedentes', 'quantidade_de_reclamacoes_reguladas_outras', 'quantidade_de_reclamacoes_nao_reguladas', 'quantidade_total_de_reclamacoes', 'quantidade_total_de_clientes_ccs_e_scr', 'quantidade_de_clientes_ccs', 'quantidade_de_clientes_scr', ',,']\n",
    "\n",
    "column_to_clean = 'instituicao_financeira'\n",
    "\n",
    "# Load dfs\n",
    "df_reclamacoes_202101 = get_df(fname_reclamacoes_202101, delimiter, header, charset)\n",
    "df_reclamacoes_202102 = get_df(fname_reclamacoes_202102, delimiter, header, charset)\n",
    "df_reclamacoes_202103 = get_df(fname_reclamacoes_202103, delimiter, header, charset)\n",
    "df_reclamacoes_202104 = get_df(fname_reclamacoes_202104, delimiter, header, charset)\n",
    "df_reclamacoes_202201 = get_df(fname_reclamacoes_202201, delimiter, header, charset)\n",
    "df_reclamacoes_202202 = get_df(fname_reclamacoes_202202, delimiter, header, charset)\n",
    "df_reclamacoes_202203 = get_df(fname_reclamacoes_202203, delimiter, header, charset)\n",
    "df_reclamacoes_202204 = get_df(fname_reclamacoes_202204, delimiter, header, charset)\n",
    "\n",
    "\n",
    "# Apply column rename func\n",
    "for i in range(len(column_to_rename_old)):\n",
    "    df_reclamacoes_202101.rename_column(column_to_rename_old[i], column_to_rename_new[i])\n",
    "    df_reclamacoes_202102.rename_column(column_to_rename_old[i], column_to_rename_new[i])\n",
    "    df_reclamacoes_202103.rename_column(column_to_rename_old[i], column_to_rename_new[i])\n",
    "    df_reclamacoes_202104.rename_column(column_to_rename_old[i], column_to_rename_new[i])\n",
    "    df_reclamacoes_202201.rename_column(column_to_rename_old[i], column_to_rename_new[i])\n",
    "    df_reclamacoes_202203.rename_column(column_to_rename_old[i], column_to_rename_new[i])\n",
    "    df_reclamacoes_202204.rename_column(column_to_rename_old[i], column_to_rename_new[i])\n",
    "\n",
    "# Apply remove accent char func\n",
    "df_reclamacoes_202101.apply_function(column_to_clean, remove_accented_characters)\n",
    "df_reclamacoes_202102.apply_function(column_to_clean, remove_accented_characters)\n",
    "df_reclamacoes_202103.apply_function(column_to_clean, remove_accented_characters)\n",
    "df_reclamacoes_202104.apply_function(column_to_clean, remove_accented_characters)\n",
    "df_reclamacoes_202201.apply_function(column_to_clean, remove_accented_characters)\n",
    "df_reclamacoes_202203.apply_function(column_to_clean, remove_accented_characters)\n",
    "df_reclamacoes_202204.apply_function(column_to_clean, remove_accented_characters)\n",
    "\n",
    "# Apply cast CNPJ column to int\n",
    "df_reclamacoes_202101.cast_column_to_int(\"cnpj_if\")\n",
    "df_reclamacoes_202102.cast_column_to_int(\"cnpj_if\")\n",
    "df_reclamacoes_202103.cast_column_to_int(\"cnpj_if\")\n",
    "df_reclamacoes_202104.cast_column_to_int(\"cnpj_if\")\n",
    "df_reclamacoes_202201.cast_column_to_int(\"cnpj_if\")\n",
    "df_reclamacoes_202203.cast_column_to_int(\"cnpj_if\")\n",
    "df_reclamacoes_202204.cast_column_to_int(\"cnpj_if\")\n",
    "\n",
    "# Apply None to missing values\n",
    "df_reclamacoes_202101.handle_missing_values(\"cnpj_if\", handle_missing)\n",
    "df_reclamacoes_202102.handle_missing_values(\"cnpj_if\", handle_missing)\n",
    "df_reclamacoes_202103.handle_missing_values(\"cnpj_if\", handle_missing)\n",
    "df_reclamacoes_202104.handle_missing_values(\"cnpj_if\", handle_missing)\n",
    "df_reclamacoes_202201.handle_missing_values(\"cnpj_if\", handle_missing)\n",
    "df_reclamacoes_202203.handle_missing_values(\"cnpj_if\", handle_missing)\n",
    "df_reclamacoes_202204.handle_missing_values(\"cnpj_if\", handle_missing)"
   ]
  },
  {
   "cell_type": "markdown",
   "id": "2ca516a7",
   "metadata": {},
   "source": [
    "#### Output"
   ]
  },
  {
   "cell_type": "code",
   "execution_count": 10,
   "id": "1052ab7a",
   "metadata": {},
   "outputs": [
    {
     "name": "stdout",
     "output_type": "stream",
     "text": [
      "c:/Users/Diane/git/grupo1-ingestao-dados/stage/bancos/EnquadramentoInicia_v2_cleaned.csv\n"
     ]
    }
   ],
   "source": [
    "# Bancos\n",
    "# nome do arquivo\n",
    "fname_bancos = path_stage_bancos + flist_raw_bancos[0]\n",
    "fname_bancos = fname_bancos.replace('.csv', '_cleaned.csv')\n",
    "fname_bancos = fname_bancos.replace('\\\\', '/')\n",
    "\n",
    "# write CSV\n",
    "df_bancos.to_csv(fname_bancos)\n",
    "print(fname_bancos)"
   ]
  },
  {
   "cell_type": "code",
   "execution_count": 11,
   "id": "da7b8094",
   "metadata": {},
   "outputs": [
    {
     "name": "stdout",
     "output_type": "stream",
     "text": [
      "c:/Users/Diane/git/grupo1-ingestao-dados/stage/empregados/glassdoor_consolidado_join_match_less_v2_cleaned.csv\n",
      "c:/Users/Diane/git/grupo1-ingestao-dados/stage/empregados/glassdoor_consolidado_join_match_v2_cleaned.csv\n"
     ]
    }
   ],
   "source": [
    "# Empregados\n",
    "# nome do arquivo\n",
    "fname_empregados_01 = path_stage_empregados + flist_raw_empregados[0]\n",
    "fname_empregados_01 = fname_empregados_01.replace('.csv', '_cleaned.csv')\n",
    "fname_empregados_01 = fname_empregados_01.replace('\\\\', '/')\n",
    "\n",
    "fname_empregados_02 = path_stage_empregados + flist_raw_empregados[1]\n",
    "fname_empregados_02 = fname_empregados_02.replace('.csv', '_cleaned.csv')\n",
    "fname_empregados_02 = fname_empregados_02.replace('\\\\', '/')\n",
    "\n",
    "# write CSV\n",
    "df_empregados_01.to_csv(fname_empregados_01)\n",
    "df_empregados_02.to_csv(fname_empregados_02)\n",
    "\n",
    "print(fname_empregados_01)\n",
    "print(fname_empregados_02)"
   ]
  },
  {
   "cell_type": "code",
   "execution_count": 12,
   "id": "d2776f76",
   "metadata": {},
   "outputs": [
    {
     "name": "stdout",
     "output_type": "stream",
     "text": [
      "c:/Users/Diane/git/grupo1-ingestao-dados/stage/reclamacoes/2021_tri_01_cleaned.csv\n",
      "c:/Users/Diane/git/grupo1-ingestao-dados/stage/reclamacoes/2021_tri_02_cleaned.csv\n",
      "c:/Users/Diane/git/grupo1-ingestao-dados/stage/reclamacoes/2021_tri_03_cleaned.csv\n",
      "c:/Users/Diane/git/grupo1-ingestao-dados/stage/reclamacoes/2021_tri_04_cleaned.csv\n",
      "c:/Users/Diane/git/grupo1-ingestao-dados/stage/reclamacoes/2022_tri_01_cleaned.csv\n",
      "c:/Users/Diane/git/grupo1-ingestao-dados/stage/reclamacoes/2022_tri_03_cleaned.csv\n",
      "c:/Users/Diane/git/grupo1-ingestao-dados/stage/reclamacoes/2022_tri_04_cleaned.csv\n"
     ]
    }
   ],
   "source": [
    "# Reclamações\n",
    "# nome do arquivo\n",
    "fname_reclamacoes_202101 = path_stage_reclamacoes + flist_raw_reclamacoes[0]\n",
    "fname_reclamacoes_202102 = path_stage_reclamacoes + flist_raw_reclamacoes[1]\n",
    "fname_reclamacoes_202103 = path_stage_reclamacoes + flist_raw_reclamacoes[2]\n",
    "fname_reclamacoes_202104 = path_stage_reclamacoes + flist_raw_reclamacoes[3]\n",
    "fname_reclamacoes_202201 = path_stage_reclamacoes + flist_raw_reclamacoes[4]\n",
    "fname_reclamacoes_202203 = path_stage_reclamacoes + flist_raw_reclamacoes[6]\n",
    "fname_reclamacoes_202204 = path_stage_reclamacoes + flist_raw_reclamacoes[7]\n",
    "\n",
    "fname_reclamacoes_202101 = fname_reclamacoes_202101.replace('.csv', '_cleaned.csv')\n",
    "fname_reclamacoes_202102 = fname_reclamacoes_202102.replace('.csv', '_cleaned.csv')\n",
    "fname_reclamacoes_202103 = fname_reclamacoes_202103.replace('.csv', '_cleaned.csv')\n",
    "fname_reclamacoes_202104 = fname_reclamacoes_202104.replace('.csv', '_cleaned.csv')\n",
    "fname_reclamacoes_202201 = fname_reclamacoes_202201.replace('.csv', '_cleaned.csv')\n",
    "fname_reclamacoes_202203 = fname_reclamacoes_202203.replace('.csv', '_cleaned.csv')\n",
    "fname_reclamacoes_202204 = fname_reclamacoes_202204.replace('.csv', '_cleaned.csv')\n",
    "\n",
    "fname_reclamacoes_202101 = fname_reclamacoes_202101.replace('\\\\', '/')\n",
    "fname_reclamacoes_202102 = fname_reclamacoes_202102.replace('\\\\', '/')\n",
    "fname_reclamacoes_202103 = fname_reclamacoes_202103.replace('\\\\', '/')\n",
    "fname_reclamacoes_202104 = fname_reclamacoes_202104.replace('\\\\', '/')\n",
    "fname_reclamacoes_202201 = fname_reclamacoes_202201.replace('\\\\', '/')\n",
    "fname_reclamacoes_202203 = fname_reclamacoes_202203.replace('\\\\', '/')\n",
    "fname_reclamacoes_202204 = fname_reclamacoes_202204.replace('\\\\', '/')\n",
    "\n",
    "# write CSV\n",
    "df_reclamacoes_202101.to_csv(fname_reclamacoes_202101)\n",
    "df_reclamacoes_202102.to_csv(fname_reclamacoes_202102)\n",
    "df_reclamacoes_202103.to_csv(fname_reclamacoes_202103)\n",
    "df_reclamacoes_202104.to_csv(fname_reclamacoes_202104)\n",
    "df_reclamacoes_202201.to_csv(fname_reclamacoes_202201)\n",
    "df_reclamacoes_202203.to_csv(fname_reclamacoes_202203)\n",
    "df_reclamacoes_202204.to_csv(fname_reclamacoes_202204)\n",
    "\n",
    "print(fname_reclamacoes_202101)\n",
    "print(fname_reclamacoes_202102)\n",
    "print(fname_reclamacoes_202103)\n",
    "print(fname_reclamacoes_202104)\n",
    "print(fname_reclamacoes_202201)\n",
    "print(fname_reclamacoes_202203)\n",
    "print(fname_reclamacoes_202204)"
   ]
  },
  {
   "cell_type": "code",
   "execution_count": null,
   "id": "72b5f76e",
   "metadata": {},
   "outputs": [],
   "source": []
  }
 ],
 "metadata": {
  "kernelspec": {
   "display_name": "base",
   "language": "python",
   "name": "python3"
  },
  "language_info": {
   "codemirror_mode": {
    "name": "ipython",
    "version": 3
   },
   "file_extension": ".py",
   "mimetype": "text/x-python",
   "name": "python",
   "nbconvert_exporter": "python",
   "pygments_lexer": "ipython3",
   "version": "3.9.13"
  },
  "vscode": {
   "interpreter": {
    "hash": "2c8a37b3b3643c9fb15903c055339ac833392cb866e775b4277fbf96facdfc8e"
   }
  }
 },
 "nbformat": 4,
 "nbformat_minor": 5
}
