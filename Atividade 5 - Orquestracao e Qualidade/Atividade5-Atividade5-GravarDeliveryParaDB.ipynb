{
 "cells": [
  {
   "cell_type": "code",
   "execution_count": null,
   "metadata": {},
   "outputs": [],
   "source": [
    "\n",
    "import sys\n",
    "from awsglue.utils import getResolvedOptions\n",
    "from pyspark.context import SparkContext\n",
    "from awsglue.context import GlueContext\n",
    "from awsglue.job import Job\n",
    "  \n",
    "sc = SparkContext.getOrCreate()\n",
    "glueContext = GlueContext(sc)\n",
    "spark = glueContext.spark_session\n",
    "job = Job(glueContext)\n",
    "bucketNameDelivery = \"atividade5-delivery/\"\n",
    "df_fato = spark.read.parquet('s3://'+bucketNameDelivery+\"fato/\")\n",
    "jdbc_url = \"jdbc:sqlserver://db-bancos.chhbj9lxr8hr.us-east-1.rds.amazonaws.com:1433\"\n",
    "tb = \"bancos.dbo.fato_bancos\"\n",
    "connection_mssql_options = {\n",
    "    \"url\": jdbc_url,\n",
    "    \"user\": \"admin\",\n",
    "    \"password\": \"adminprincipal\"}\n",
    "\n",
    "df_fato.write.mode(\"overwrite\").jdbc(url=jdbc_url, table=tb,properties=connection_mssql_options)\n",
    "job.commit()"
   ]
  }
 ],
 "metadata": {
  "language_info": {
   "name": "python"
  },
  "orig_nbformat": 4
 },
 "nbformat": 4,
 "nbformat_minor": 2
}
