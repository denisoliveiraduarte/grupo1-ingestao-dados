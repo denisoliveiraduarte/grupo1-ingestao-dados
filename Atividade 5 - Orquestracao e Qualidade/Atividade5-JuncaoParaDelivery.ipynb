{
 "cells": [
  {
   "cell_type": "code",
   "execution_count": null,
   "metadata": {},
   "outputs": [],
   "source": [
    "\n",
    "import sys\n",
    "from awsglue.utils import getResolvedOptions\n",
    "from pyspark.context import SparkContext\n",
    "from awsglue.context import GlueContext\n",
    "from awsglue.job import Job\n",
    "  \n",
    "sc = SparkContext.getOrCreate()\n",
    "glueContext = GlueContext(sc)\n",
    "spark = glueContext.spark_session\n",
    "job = Job(glueContext)\n",
    "from pyspark.sql import SparkSession\n",
    "from pyspark.sql.functions import col, regexp_replace, when, isnull, trim, avg, count, sum\n",
    "from pyspark.sql.types import StringType, IntegerType\n",
    "bucketNameTrusted = \"atividade5-trusted/\"\n",
    "bucketNameDelivery = \"atividade5-delivery/\"\n",
    "\n",
    "pastaBancos = \"bancos/\"\n",
    "pastaEmpregados = \"empregados/\"\n",
    "pastaReclamacoes = \"reclamacoes/\"\n",
    "df_bancos = spark.read.parquet('s3://'+bucketNameTrusted+pastaBancos)\n",
    "df_empregados = spark.read.parquet('s3://'+bucketNameTrusted+pastaEmpregados)\n",
    "df_reclamacoes = spark.read.parquet('s3://'+bucketNameTrusted+pastaReclamacoes)\n",
    "columns = ['segmento','cnpj','nome',col(\"geral\").cast('float').alias(\"geral\"),col(\"remuneracao_e_beneficios\").cast('float').alias(\"remuneracao_e_beneficios\")]\n",
    "\n",
    "df_bancos_empregados = df_bancos.join(df_empregados,df_bancos.nome ==  df_empregados.nome_emp,\"inner\").select(columns).distinct()\n",
    "columns = ['segmento','cnpj','nome_rec','ano','trimestre',col(\"indice\").cast('float').alias(\"indice\"),\\\n",
    "           col(\"qtd_reclamacoes\").cast('int').alias(\"qtd_reclamacoes\"),col(\"qtd_clientes\").cast('int').alias(\"qtd_clientes\")]\n",
    "\n",
    "df_bancos_reclamacoes = df_bancos.join(df_reclamacoes,df_bancos.nome ==  df_reclamacoes.nome_rec,\"inner\").select(columns)\n",
    "df_bancos_reclamacoes = df_bancos_reclamacoes.groupBy(\"nome_rec\").agg(avg(\"indice\").alias(\"indice\"), sum(\"qtd_reclamacoes\").alias(\"qtd_reclamacoes\") \\\n",
    "                      , avg(\"qtd_clientes\").alias(\"qtd_clientes\"))\n",
    "columns = [col(\"nome\").alias(\"nome_banco\"),\"cnpj\",col(\"segmento\").alias(\"classificacao_banco\"),\\\n",
    "           col(\"qtd_clientes\"),col(\"indice\").alias(\"indice_de_reclamacoes\"),\\\n",
    "           col(\"qtd_reclamacoes\"),col(\"geral\").alias(\"indice_satisfacao_geral\"),\\\n",
    "           col(\"remuneracao_e_beneficios\").alias(\"indice_satisfacao_salarios\")]\n",
    "\n",
    "df_fato = df_bancos_empregados.join(df_bancos_reclamacoes,df_bancos_empregados.nome ==  df_bancos_reclamacoes.nome_rec,\"inner\").select(columns).distinct()\n",
    "df_fato.write.format(\"hive\").mode(\"append\").saveAsTable(\"bancos_classif.fato\")\n",
    "df_fato.write.mode(\"overwrite\").parquet('s3://'+bucketNameDelivery+\"fato/\")\n",
    "job.commit()"
   ]
  }
 ],
 "metadata": {
  "language_info": {
   "name": "python"
  },
  "orig_nbformat": 4
 },
 "nbformat": 4,
 "nbformat_minor": 2
}
