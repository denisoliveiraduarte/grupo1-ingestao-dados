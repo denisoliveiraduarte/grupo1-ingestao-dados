{
 "cells": [
  {
   "cell_type": "code",
   "execution_count": 1,
   "metadata": {},
   "outputs": [],
   "source": [
    "import duckdb as db"
   ]
  },
  {
   "cell_type": "code",
   "execution_count": 7,
   "metadata": {},
   "outputs": [
    {
     "name": "stdout",
     "output_type": "stream",
     "text": [
      "┌──────────────────────┬───────────────┬───────────────┬───┬──────────┬──────────────────────┬──────────────────┐\n",
      "│    employer_name     │ reviews_count │ culture_count │ … │   CNPJ   │         nome         │ match_percent,,, │\n",
      "│       varchar        │     int64     │     int64     │   │  int64   │       varchar        │      int64       │\n",
      "├──────────────────────┼───────────────┼───────────────┼───┼──────────┼──────────────────────┼──────────────────┤\n",
      "│ Apex Group           │           450 │           281 │ … │   655522 │ APE POUPEX           │               70 │\n",
      "│ Banco Alfa           │           175 │            74 │ … │ 58160789 │ SAFRA                │               67 │\n",
      "│ China Construction…  │           871 │           194 │ … │  7450604 │ CHINA CONSTRUCTION…  │               77 │\n",
      "│ Mercedes-Benz Mobi…  │           282 │            90 │ … │ 60814191 │ MERCEDES-BENZ        │               73 │\n",
      "│ Sumitomo Mitsui Fi…  │           903 │           246 │ … │ 60518222 │ BANCO SUMITOMO MIT…  │               65 │\n",
      "├──────────────────────┴───────────────┴───────────────┴───┴──────────┴──────────────────────┴──────────────────┤\n",
      "│ 5 rows                                                                                   23 columns (6 shown) │\n",
      "└───────────────────────────────────────────────────────────────────────────────────────────────────────────────┘\n",
      "\n"
     ]
    }
   ],
   "source": [
    "bancos = db.read_csv('./stage/bancos/EnquadramentoInicia_v2_cleaned.csv')\n",
    "empregados_cnpj = db.read_csv('./stage/empregados/glassdoor_consolidado_join_match_less_v2_cleaned.csv', delimiter =';')\n",
    "empregados_seg = db.read_csv('./stage/empregados/glassdoor_consolidado_join_match_v2_cleaned.csv', delimiter = ';')\n",
    "reclamacoes_2101 = db.read_csv('./stage/reclamacoes/2021_tri_01_cleaned.csv', delimiter = ';')\n",
    "reclamacoes_2102 = db.read_csv('./stage/reclamacoes/2021_tri_02_cleaned.csv', delimiter = ';')\n",
    "reclamacoes_2103 = db.read_csv('./stage/reclamacoes/2021_tri_03_cleaned.csv', delimiter = ';')\n",
    "reclamacoes_2104 = db.read_csv('./stage/reclamacoes/2021_tri_04_cleaned.csv', delimiter = ';')\n",
    "reclamacoes_2201 = db.read_csv('./stage/reclamacoes/2021_tri_02_cleaned.csv', delimiter = ';')\n",
    "reclamacoes_2203 = db.read_csv('./stage/reclamacoes/2021_tri_02_cleaned.csv', delimiter = ';')\n",
    "reclamacoes_2204 = db.read_csv('./stage/reclamacoes/2021_tri_02_cleaned.csv', delimiter = ';')"
   ]
  },
  {
   "cell_type": "code",
   "execution_count": 18,
   "metadata": {},
   "outputs": [
    {
     "name": "stdout",
     "output_type": "stream",
     "text": [
      "┌──────────┬──────────────────────┬──────────┬───┬──────────────────────┬──────────────────────┬─────────┐\n",
      "│   cnpj   │         nome         │ segmento │ … │ quantidade_de_clie…  │ quantidade_de_clie…  │   ,,    │\n",
      "│ varchar  │       varchar        │ varchar  │   │       varchar        │       varchar        │ varchar │\n",
      "├──────────┼──────────────────────┼──────────┼───┼──────────────────────┼──────────────────────┼─────────┤\n",
      "│ 60518222 │ BANCO SUMITOMO MIT…  │ S3       │ … │ 1023                 │ 126                  │ ,,      │\n",
      "├──────────┴──────────────────────┴──────────┴───┴──────────────────────┴──────────────────────┴─────────┤\n",
      "│ 1 rows                                                                            42 columns (6 shown) │\n",
      "└────────────────────────────────────────────────────────────────────────────────────────────────────────┘\n",
      "\n"
     ]
    }
   ],
   "source": [
    "bancos2 = db.sql(\"select cnpj :: varchar as cnpj, nome, segmento from bancos\")\n",
    "empregados = db.sql (\"\"\"select \n",
    "                     ec.employer_name, ec.reviews_count, ec.culture_count, ec.salaries_count, ec.benefits_count, ec.employer_website, ec.employer_headquarters, ec.employer_founded, ec.employer_industry, ec.employer_revenue, ec.url, ec.geral, ec.cultura_e_valores, ec.diversidade_e_inclusao, ec.qualidade_de_vida, ec.alta_lideranca, ec.remuneracao_e_beneficios, ec.oportunidades_de_carreira, ec.recomendam_para_outras_pessoas_perc, ec.perspectiva_positiva_da_empresa_perc, ec.cnpj :: varchar as cnpj, '' as segmento, ec.nome, ec.\"match_percent,,,\" \n",
    "                     from empregados_cnpj ec\n",
    "                      union all\n",
    "                     select es.employer_name, es.reviews_count, es.culture_count, es.salaries_count, es.benefits_count, es.employer_website, es.employer_headquarters, es.employer_founded, es.employer_industry, es.employer_revenue, es.url, es.geral, es.cultura_e_valores, es.diversidade_e_inclusao, es.qualidade_de_vida, es.alta_lideranca, es.remuneracao_e_beneficios, es.oportunidades_de_carreira, es.recomendam_para_outras_pessoas_perc, es.perspectiva_positiva_da_empresa_perc, '' as cnpj, es.segmento, es.nome, es.\"match_percent,,,\" \n",
    "                     from empregados_seg es\n",
    "                    \"\"\")\n",
    "reclamacoes = db.sql(\n",
    "    \"\"\"\n",
    "        select\n",
    "            * \n",
    "        from reclamacoes_2101 \n",
    "        union all \n",
    "        select \n",
    "            * \n",
    "        from reclamacoes_2102\n",
    "        union all \n",
    "        select \n",
    "            *\n",
    "        from reclamacoes_2103\n",
    "        union all \n",
    "        select \n",
    "            *\n",
    "        from reclamacoes_2104\n",
    "        union all \n",
    "        select \n",
    "            * \n",
    "        from reclamacoes_2201\n",
    "        union all \n",
    "        select \n",
    "            * \n",
    "        from reclamacoes_2203\n",
    "        union all \n",
    "        select \n",
    "            *\n",
    "        from reclamacoes_2204\n",
    "    \"\"\"\n",
    "    )\n",
    "fato = db.sql(\"select distinct * from bancos2 b join empregados e on e.cnpj = b.cnpj join reclamacoes r on b.cnpj = r.cnpj_if\")\n",
    "\n",
    "print(fato)"
   ]
  }
 ],
 "metadata": {
  "kernelspec": {
   "display_name": "Python 3",
   "language": "python",
   "name": "python3"
  },
  "language_info": {
   "codemirror_mode": {
    "name": "ipython",
    "version": 3
   },
   "file_extension": ".py",
   "mimetype": "text/x-python",
   "name": "python",
   "nbconvert_exporter": "python",
   "pygments_lexer": "ipython3",
   "version": "3.11.4"
  },
  "orig_nbformat": 4
 },
 "nbformat": 4,
 "nbformat_minor": 2
}
